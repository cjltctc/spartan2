{
 "cells": [
  {
   "cell_type": "markdown",
   "metadata": {},
   "source": [
    "## Time series tensor start\n",
    "Here you can learn the basic use of tensor in time series data."
   ]
  },
  {
   "cell_type": "markdown",
   "metadata": {},
   "source": [
    "Import spartan package.<br/>\n",
    "Remember to install spartan from pip or clone the project from github before doing this."
   ]
  },
  {
   "cell_type": "code",
   "execution_count": null,
   "metadata": {
    "scrolled": true
   },
   "outputs": [],
   "source": [
    "import spartan as st"
   ]
  },
  {
   "cell_type": "markdown",
   "metadata": {},
   "source": [
    "First, we load data from origin file by ```loadTensor``` function.<br/>\n",
    "**path**: support relative or absolute path of directory.<br/>\n",
    "**col_idx**: id of chosen columns in data file, its order also effects the reading order.<br/>\n",
    "**col_types**: data type of each chosen column, default is inferred by pandas."
   ]
  },
  {
   "cell_type": "code",
   "execution_count": null,
   "metadata": {
    "scrolled": true
   },
   "outputs": [],
   "source": [
    "tensor = st.loadTensor(path=\"inputData/example_time.tensor\")"
   ]
  },
  {
   "cell_type": "markdown",
   "metadata": {},
   "source": [
    "Then, we use ```toDtensor``` function to split time column and value columns. ```DTensor``` is designed for dense tensor.<br/>\n",
    "**hastticks**: indicate whether tensor has a column for time, default is False and will return None for time"
   ]
  },
  {
   "cell_type": "code",
   "execution_count": null,
   "metadata": {},
   "outputs": [],
   "source": [
    "time, value = tensor.toDTensor(hastticks=True)"
   ]
  },
  {
   "cell_type": "markdown",
   "metadata": {},
   "source": [
    "Finally, ```st.Timeseries``` is used to construct ```Timeseries``` object.<br/>\n",
    "**val_tensor**: value tensor<br/>\n",
    "**time_tensor**: time tensor, default is None<br/>\n",
    "**labels**: list of column names, default is None<br/>\n",
    "**freq**: frequency of this series, default is 1<br/>\n",
    "**startts**: start timetick, default is 0<br/>"
   ]
  },
  {
   "cell_type": "markdown",
   "metadata": {},
   "source": [
    "Timeseries can be constructed in many styles. Among all parameters, only val_tensor is necessary.<br/>\n",
    "Normally, val_tensor, time_tensor, and labels are passed in. Length of labels and val_tensor will be determined to be equal. And meanwhile, freq, startts will be invalid and inferred from time tensor."
   ]
  },
  {
   "cell_type": "code",
   "execution_count": null,
   "metadata": {},
   "outputs": [],
   "source": [
    "time_series = st.Timeseries(value, time, labels=['col_1', 'col_2'])\n",
    "print(time_series)"
   ]
  },
  {
   "cell_type": "markdown",
   "metadata": {},
   "source": [
    "If labels are missing, program will defaultly assign a list of labels, as ['dim_1', 'dim_2', ...]"
   ]
  },
  {
   "cell_type": "code",
   "execution_count": null,
   "metadata": {},
   "outputs": [],
   "source": [
    "time_series = st.Timeseries(value, time)"
   ]
  },
  {
   "cell_type": "markdown",
   "metadata": {},
   "source": [
    "<img src=\"images/timeseries_1.png\" width=\"700\"/> "
   ]
  },
  {
   "cell_type": "markdown",
   "metadata": {},
   "source": [
    "Call ```st.plot_timeseries``` to plot time series.<br/>\n",
    "**chosen_labels**: two-dimension list, whose entries are dimensions to be plotted in each subplot."
   ]
  },
  {
   "cell_type": "code",
   "execution_count": null,
   "metadata": {},
   "outputs": [],
   "source": [
    "st.plot_timeseries(time_series, chosen_labels=[['dim_0', 'dim_1'], ['dim_1']])"
   ]
  },
  {
   "cell_type": "markdown",
   "metadata": {},
   "source": [
    "If time tensor is missed, program will automatically create a time tensor with parameter freq and startts."
   ]
  },
  {
   "cell_type": "code",
   "execution_count": null,
   "metadata": {},
   "outputs": [],
   "source": [
    "time_series = st.Timeseries(value, freq=360, startts=100, labels=['col_1', 'col_2'])"
   ]
  },
  {
   "cell_type": "markdown",
   "metadata": {},
   "source": [
    "<img src=\"images/timeseries_2.png\" width=\"700\"/> "
   ]
  },
  {
   "cell_type": "markdown",
   "metadata": {},
   "source": [
    "Function ```resample``` resamples series data with a new frequency.<br/>\n",
    "**resampled_freq**: resampled frequency<br/>\n",
    "**inplace**: update origin object or return a new object, default is False"
   ]
  },
  {
   "cell_type": "code",
   "execution_count": null,
   "metadata": {
    "scrolled": true
   },
   "outputs": [],
   "source": [
    "resampled_time_series = time_series.resample(180)"
   ]
  },
  {
   "cell_type": "markdown",
   "metadata": {},
   "source": [
    "<img src=\"images/timeseries_3.png\" width=\"700\"/> "
   ]
  },
  {
   "cell_type": "code",
   "execution_count": null,
   "metadata": {},
   "outputs": [],
   "source": [
    "resampled_time_series.resample(720, inplace=False)"
   ]
  },
  {
   "cell_type": "markdown",
   "metadata": {},
   "source": [
    "<img src=\"images/timeseries_4.png\" width=\"700\"/> "
   ]
  },
  {
   "cell_type": "markdown",
   "metadata": {},
   "source": [
    "Function ```add_columns``` add new equal-length columns to Time series object.<br/>\n",
    "**attrs**: list or string of column names<br/>\n",
    "**values**: values of columns<br/>\n",
    "if type of values is int or float, function will create a equal-length ndarray filled with values<br/>\n",
    "if type of values is DTensor or list, function will judge the length, then add columns<br/>\n",
    "default is None<br/>\n",
    "**inplace**: update origin object or return a new object, default is False"
   ]
  },
  {
   "cell_type": "code",
   "execution_count": null,
   "metadata": {},
   "outputs": [],
   "source": [
    "import numpy as np\n",
    "added_series = time_series.add_columns(['label_1', 'label_2'], [1, 2], inplace=False)"
   ]
  },
  {
   "cell_type": "markdown",
   "metadata": {},
   "source": [
    "<img src=\"images/timeseries_5.png\" width=\"700\"/> "
   ]
  },
  {
   "cell_type": "markdown",
   "metadata": {},
   "source": [
    "Function ```combine``` combine self with columns of other timeseries objects which have the same length.<br/>\n",
    "**series**: list of Timeseries object or Timeseries object<br/>\n",
    "**inplace**: update origin object or return a new object, default is False"
   ]
  },
  {
   "cell_type": "code",
   "execution_count": null,
   "metadata": {},
   "outputs": [],
   "source": [
    "combined_series = time_series.combine(added_series, inplace=False)"
   ]
  },
  {
   "cell_type": "markdown",
   "metadata": {},
   "source": [
    "<img src=\"images/timeseries_6.png\" width=\"700\"/> "
   ]
  },
  {
   "cell_type": "markdown",
   "metadata": {},
   "source": [
    "Function ```extract``` extract specific columns from self..<br/>\n",
    "**attrs**: list or string of column names, default is None<br/>\n",
    "**inplace**: update origin object or return a new object, default is False"
   ]
  },
  {
   "cell_type": "code",
   "execution_count": null,
   "metadata": {},
   "outputs": [],
   "source": [
    "extracted_series = added_series.extract(['label_1', 'col_1'], inplace=False)"
   ]
  },
  {
   "cell_type": "markdown",
   "metadata": {},
   "source": [
    "<img src=\"images/timeseries_7.png\" width=\"700\"/> "
   ]
  },
  {
   "cell_type": "markdown",
   "metadata": {},
   "source": [
    "Function ```concat``` concatenate self with another timeseries object with the same dimension.<br/>\n",
    "**series**: list of Timeseries object or Timeseries object<br/>\n",
    "**inplace**: update origin object or return a new object, default is False"
   ]
  },
  {
   "cell_type": "code",
   "execution_count": null,
   "metadata": {},
   "outputs": [],
   "source": [
    "concatted_series = time_series.concat(time_series, inplace=False)"
   ]
  },
  {
   "cell_type": "markdown",
   "metadata": {},
   "source": [
    "<img src=\"images/timeseries_8.png\" width=\"700\"/> "
   ]
  },
  {
   "cell_type": "code",
   "execution_count": null,
   "metadata": {},
   "outputs": [],
   "source": [
    "concatted_series.concat([time_series, time_series], inplace=True)"
   ]
  },
  {
   "cell_type": "markdown",
   "metadata": {},
   "source": [
    "<img src=\"images/timeseries_9.png\" width=\"700\"/> "
   ]
  },
  {
   "cell_type": "markdown",
   "metadata": {},
   "source": [
    "Function ```cut``` cut sub sequence from chosen attribute columns.<br/>\n",
    "**start**: start timetick or point, default is None, cut from the very front position.<br/>\n",
    "**end**: end timetick or point, default is None, cut to the very last position.<br/>\n",
    "**attrs**: list or string of column names, return the all columns<br/>\n",
    "**form**: type of start and end<br/>\n",
    "if 'point', start and end stand for positions of points<br/>\n",
    "if 'time', start and end stand for timeticks of points<br/>\n",
    "default is 'point'<br/>\n",
    "**inplace**: update origin object or return a new object, default is False"
   ]
  },
  {
   "cell_type": "code",
   "execution_count": null,
   "metadata": {},
   "outputs": [],
   "source": [
    "cut_point_series = time_series.cut(attrs=['col_1'], start=0, end=1000, inplace=False)"
   ]
  },
  {
   "cell_type": "markdown",
   "metadata": {},
   "source": [
    "<img src=\"images/timeseries_10.png\" width=\"700\"/> "
   ]
  },
  {
   "cell_type": "code",
   "execution_count": null,
   "metadata": {},
   "outputs": [],
   "source": [
    "cut_time_series = time_series.cut(start=103, end=105, form='time', inplace=False)"
   ]
  },
  {
   "cell_type": "markdown",
   "metadata": {},
   "source": [
    "<img src=\"images/timeseries_11.png\" width=\"700\"/> "
   ]
  },
  {
   "cell_type": "markdown",
   "metadata": {},
   "source": [
    "Function ```normalize``` normalize data in value_tensor.<br/>\n",
    "**attrs**: list or string of column names, default is None<br/>\n",
    "**strategy**: strategy for normalization<br/>\n",
    "if 'minmax', normalize to [-1, 1]<br/>\n",
    "default is 'minmax'<br/>\n",
    "**inplace**: update origin object or return a new object, default is False"
   ]
  },
  {
   "cell_type": "code",
   "execution_count": null,
   "metadata": {},
   "outputs": [],
   "source": [
    "normalized_series = time_series.normalize(inplace=False)"
   ]
  },
  {
   "cell_type": "markdown",
   "metadata": {},
   "source": [
    "<img src=\"images/timeseries_12.png\" width=\"700\"/> "
   ]
  }
 ],
 "metadata": {
  "kernelspec": {
   "display_name": "Python 3",
   "language": "python",
   "name": "python3"
  },
  "language_info": {
   "codemirror_mode": {
    "name": "ipython",
    "version": 3
   },
   "file_extension": ".py",
   "mimetype": "text/x-python",
   "name": "python",
   "nbconvert_exporter": "python",
   "pygments_lexer": "ipython3",
   "version": "3.7.6"
  }
 },
 "nbformat": 4,
 "nbformat_minor": 2
}
